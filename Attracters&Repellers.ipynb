{
 "cells": [
  {
   "cell_type": "code",
   "execution_count": 1,
   "metadata": {},
   "outputs": [],
   "source": [
    "%matplotlib inline\n",
    "import matplotlib.pyplot as plt\n",
    "import matplotlib\n",
    "import numpy as np\n",
    "import math\n",
    "import itertools"
   ]
  },
  {
   "cell_type": "code",
   "execution_count": 2,
   "metadata": {},
   "outputs": [],
   "source": [
    "#\n",
    "# The piecewise linear activation function that clips weighted input. \n",
    "# A scalar function (numbers in, numbers out)\n",
    "#\n",
    "# input: weighted input \n",
    "# output: activation\n",
    "#\n",
    "def piecewise_linear(weighted_input):\n",
    "    u = 10\n",
    "    l = -10\n",
    "    if(weighted_input > u):\n",
    "        return u\n",
    "    elif(weighted_input < l):\n",
    "        return l\n",
    "    else:\n",
    "        return weighted_input"
   ]
  },
  {
   "cell_type": "code",
   "execution_count": 3,
   "metadata": {},
   "outputs": [],
   "source": [
    "#\n",
    "# Threshold  activation function\n",
    "#\n",
    "def threshold(weighted_input):\n",
    "    u = 10\n",
    "    l = -10\n",
    "    theta = 0\n",
    "    if(weighted_input > theta):\n",
    "        return u\n",
    "    else:\n",
    "        return l"
   ]
  },
  {
   "cell_type": "markdown",
   "metadata": {},
   "source": [
    "## The Neural Network Function"
   ]
  },
  {
   "cell_type": "markdown",
   "metadata": {},
   "source": [
    " Edit to decide which activation function to use"
   ]
  },
  {
   "cell_type": "code",
   "execution_count": 3,
   "metadata": {},
   "outputs": [],
   "source": [
    "def recurrent_net(activation_vector):\n",
    "    weighted_inputs = activation_vector.dot(weight_matrix)\n",
    "    ### Uncomment the activation you want to use below\n",
    "    act_function = np.vectorize(piecewise_linear)  \n",
    "    # act_function = np.vectorize(threshold) \n",
    "    return act_function(weighted_inputs)"
   ]
  },
  {
   "cell_type": "code",
   "execution_count": 4,
   "metadata": {},
   "outputs": [],
   "source": [
    "weight_matrix = np.array([[.3,.5],[-1.3,.2]])"
   ]
  },
  {
   "cell_type": "code",
   "execution_count": 5,
   "metadata": {},
   "outputs": [],
   "source": [
    "init_conditions = [np.array([1,1])]"
   ]
  },
  {
   "cell_type": "code",
   "execution_count": 6,
   "metadata": {},
   "outputs": [
    {
     "data": {
      "image/png": "[encoded data removed]",
      "text/plain": [
       "<matplotlib.figure.Figure at 0x1067dac50>"
      ]
     },
     "metadata": {},
     "output_type": "display_data"
    }
   ],
   "source": [
    "for ic in init_conditions:\n",
    "    orbit_length = 40  # EDIT: You can set how long the orbit to display is here\n",
    "    orbit = np.zeros((orbit_length,2))\n",
    "    orbit[0] = ic\n",
    "    plt.scatter(ic[0],ic[1], c=\"yellow\", s=100) # Plot initial conditions\n",
    "    for i in range(1,orbit_length):\n",
    "        orbit[i] = recurrent_net(orbit[i-1])\n",
    "    plt.plot(orbit[:,0],orbit[:,1],'.-',alpha = .2, color = 'blue')\n",
    "fig = matplotlib.pyplot.gcf()\n",
    "fig.set_size_inches(5.5, 5.5) # Set plot size here\n",
    "# fig.savefig('phase_portrait.png') # Use this to save an image instead of taking a screenshot"
   ]
  },
  {
   "cell_type": "code",
   "execution_count": 9,
   "metadata": {},
   "outputs": [],
   "source": [
    "def print_orbit(init_condition):\n",
    "    print(\"init condition:\",init_condition)\n",
    "    orbit_length = 100 # EDIT: Set how long to show orbits for here\n",
    "    orbit = np.zeros((orbit_length,2))\n",
    "    orbit[0] = init_condition\n",
    "    for i in range(1,orbit_length):\n",
    "        orbit[i] = recurrent_net(orbit[i-1])\n",
    "        print(np.round(orbit[i],5))\n",
    "    print(\"-----------\")"
   ]
  },
  {
   "cell_type": "code",
   "execution_count": 21,
   "metadata": {},
   "outputs": [
    {
     "name": "stdout",
     "output_type": "stream",
     "text": [
      "init condition: [1 1]\n",
      "[-1.   0.7]\n",
      "[-1.21 -0.36]\n",
      "[ 0.105 -0.677]\n",
      "[ 0.9116 -0.0829]\n",
      "[0.38125 0.43922]\n",
      "[-0.45661  0.27847]\n",
      "[-0.49899 -0.17261]\n",
      "[ 0.0747  -0.28402]\n",
      "[ 0.39163 -0.01946]\n",
      "[0.14278 0.19193]\n",
      "[-0.20667  0.10978]\n",
      "[-0.20471 -0.08138]\n",
      "[ 0.04438 -0.11863]\n",
      "[ 0.16753 -0.00154]\n",
      "[0.05226 0.08346]\n",
      "[-0.09282  0.04282]\n",
      "[-0.08351 -0.03785]\n",
      "[ 0.02415 -0.04933]\n",
      "[0.07137 0.00221]\n",
      "[0.01854 0.03613]\n",
      "[-0.0414   0.01649]\n",
      "[-0.03386 -0.0174 ]\n",
      "[ 0.01246 -0.02041]\n",
      "[0.03027 0.00215]\n",
      "[0.00629 0.01557]\n",
      "[-0.01835  0.00626]\n",
      "[-0.01364 -0.00792]\n",
      "[ 0.00621 -0.0084 ]\n",
      "[0.01279 0.00142]\n",
      "[0.00199 0.00668]\n",
      "[-0.00809  0.00233]\n",
      "[-0.00545 -0.00358]\n",
      "[ 0.00301 -0.00344]\n",
      "[0.00538 0.00082]\n",
      "[0.00055 0.00285]\n",
      "[-0.00354  0.00085]\n",
      "[-0.00216 -0.0016 ]\n",
      "[ 0.00144 -0.0014 ]\n",
      "[0.00225 0.00044]\n",
      "[0.00011 0.00121]\n",
      "[-0.00155  0.0003 ]\n",
      "[-0.00085 -0.00071]\n",
      "[ 0.00067 -0.00057]\n",
      "[0.00094 0.00022]\n",
      "[-1.0e-05  5.1e-04]\n",
      "[-0.00067  0.0001 ]\n",
      "[-0.00033 -0.00032]\n",
      "[ 0.00031 -0.00023]\n",
      "[0.00039 0.00011]\n",
      "[-3.0e-05  2.2e-04]\n",
      "[-2.9e-04  3.0e-05]\n",
      "[-0.00013 -0.00014]\n",
      "[ 1.4e-04 -9.0e-05]\n",
      "[1.6e-04 5.0e-05]\n",
      "[-2.e-05  9.e-05]\n",
      "[-1.2e-04  1.0e-05]\n",
      "[-5.e-05 -6.e-05]\n",
      "[ 6.e-05 -4.e-05]\n",
      "[7.e-05 3.e-05]\n",
      "[-1.e-05  4.e-05]\n",
      "[-5.e-05  0.e+00]\n",
      "[-2.e-05 -3.e-05]\n",
      "[ 3.e-05 -1.e-05]\n",
      "[3.e-05 1.e-05]\n",
      "[-1.e-05  2.e-05]\n",
      "[-2.e-05 -0.e+00]\n",
      "[-1.e-05 -1.e-05]\n",
      "[ 1.e-05 -1.e-05]\n",
      "[1.e-05 1.e-05]\n",
      "[-0.e+00  1.e-05]\n",
      "[-1.e-05 -0.e+00]\n",
      "[-0. -0.]\n",
      "[ 1.e-05 -0.e+00]\n",
      "[0. 0.]\n",
      "[-0.  0.]\n",
      "[-0. -0.]\n",
      "[-0. -0.]\n",
      "[ 0. -0.]\n",
      "[0. 0.]\n",
      "[-0.  0.]\n",
      "[-0. -0.]\n",
      "[-0. -0.]\n",
      "[ 0. -0.]\n",
      "[0. 0.]\n",
      "[-0.  0.]\n",
      "[-0. -0.]\n",
      "[-0. -0.]\n",
      "[ 0. -0.]\n",
      "[0. 0.]\n",
      "[-0.  0.]\n",
      "[-0. -0.]\n",
      "[-0. -0.]\n",
      "[ 0. -0.]\n",
      "[0. 0.]\n",
      "[-0.  0.]\n",
      "[-0. -0.]\n",
      "[ 0. -0.]\n",
      "[ 0. -0.]\n",
      "[0. 0.]\n",
      "-----------\n"
     ]
    }
   ],
   "source": [
    "for ic in init_conditions:\n",
    "    print_orbit(ic)"
   ]
  },
  {
   "cell_type": "code",
   "execution_count": null,
   "metadata": {},
   "outputs": [],
   "source": []
  }
 ],
 "metadata": {
  "kernelspec": {
   "display_name": "Python 3",
   "language": "python",
   "name": "python3"
  },
  "language_info": {
   "codemirror_mode": {
    "name": "ipython",
    "version": 3
   },
   "file_extension": ".py",
   "mimetype": "text/x-python",
   "name": "python",
   "nbconvert_exporter": "python",
   "pygments_lexer": "ipython3",
   "version": "3.6.4"
  }
 },
 "nbformat": 4,
 "nbformat_minor": 2
}
